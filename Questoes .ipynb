{
 "cells": [
  {
   "cell_type": "markdown",
   "metadata": {},
   "source": [
    "## Qual o objetivo do comando cache em Spark?\n"
   ]
  },
  {
   "cell_type": "markdown",
   "metadata": {},
   "source": [
    "O comando cache e muito útil quando se trata de paralelizar tarefas via RDD sem trazer sobrecarga ao gerenciamento do cluster. As operações em Spark são classificadas como 'lazy', portanto precisa-se ter cuidado ao executar jobs no disco ou em memória."
   ]
  },
  {
   "cell_type": "markdown",
   "metadata": {},
   "source": [
    "### O mesmo código implementado em Spark é normalmente mais rápido que a implementação equivalente em MapReduce. Por quê?"
   ]
  },
  {
   "cell_type": "markdown",
   "metadata": {},
   "source": [
    "O Spark possui vantagens sobre o MapReduce por não depender de operações I/O, que tomam muito tempo dos sistemas distribuídos padrões. Além disso, o Spark possui uma alta interação com aplicações (Scala, Python, Java), o que leva um tempo menor para processar camadas de softwares."
   ]
  },
  {
   "cell_type": "markdown",
   "metadata": {},
   "source": [
    "## Qual é a função do SparkContext?"
   ]
  },
  {
   "cell_type": "markdown",
   "metadata": {},
   "source": [
    "O SparkContext e o gerenciador central do Spark, que coordena clusters, atuando como um datanode. Checa integridade e funcionalidades dos clusters, assim como seus recursos."
   ]
  },
  {
   "cell_type": "markdown",
   "metadata": {},
   "source": [
    "## Explique com suas palavras o que é Resilient Distributed Datasets (RDD)."
   ]
  },
  {
   "cell_type": "markdown",
   "metadata": {},
   "source": [
    "RDDs são os blocos fundamentais do Spark. E a API original que o Spark desenvolveu, voltado para data representing (objetos) em Java, Scala e Python. Possui três características fundamentais: Compile-time type, são do tipo ALG Lazy e são baseados em collections da Scalla API."
   ]
  },
  {
   "cell_type": "markdown",
   "metadata": {},
   "source": [
    "## GroupByKey é menos eficiente que reduceByKey em grandes dataset. Por quê?"
   ]
  },
  {
   "cell_type": "markdown",
   "metadata": {},
   "source": [
    "Em grandes data sets, quando se usa groupByKey(), todos as chaves-valores sao misturadas no cluster. Muito dado desnecessario e transferido para o framework, e isso significa mais processamento, pois mais dado e transferido para disco, por ter mais carga na memoria.\n",
    "\n",
    "\n",
    "Em conjuntos de dados, é melhor usar outras funções, como reduzirByKey (), combinarByKey () ou dobrarByKey (). Quando usa-se groupByKey (), todos os pares de valores-chave são embaralhados no cluster. Muitos dados desnecessários estão sendo transferidos pela rede. Além disso, se mais dados forem inseridos em uma única máquina, mais dados serão copiados para o disco disco. Isso afeta fortemente o desempenho de trabalho do Spark."
   ]
  },
  {
   "cell_type": "markdown",
   "metadata": {},
   "source": [
    "## Explique o que o código Scala abaixo faz."
   ]
  },
  {
   "cell_type": "code",
   "execution_count": 1,
   "metadata": {},
   "outputs": [
    {
     "ename": "SyntaxError",
     "evalue": "invalid syntax (<ipython-input-1-70d84aff86d9>, line 1)",
     "output_type": "error",
     "traceback": [
      "\u001b[0;36m  File \u001b[0;32m\"<ipython-input-1-70d84aff86d9>\"\u001b[0;36m, line \u001b[0;32m1\u001b[0m\n\u001b[0;31m    val textFile = sc.textFile(\"hdfs://...\")\u001b[0m\n\u001b[0m               ^\u001b[0m\n\u001b[0;31mSyntaxError\u001b[0m\u001b[0;31m:\u001b[0m invalid syntax\n"
     ]
    }
   ],
   "source": [
    "val textFile = sc.textFile(\"hdfs://...\")\n",
    "val counts = textFile.flatMap(line => line.split(\" \"))\n",
    ".map(word => (word, 1))\n",
    ".reduceByKey(_ + _)\n",
    "counts.saveAsTextFile(\"hdfs://...\")"
   ]
  },
  {
   "cell_type": "markdown",
   "metadata": {},
   "source": [
    "O codigo acima realiza as seguites tarefas:\n",
    " - Faz o load de dados de um sistema distribuído qualquer (hadoop)\n",
    " - Após isso, é feito o split dos dados por espaços e sequenciados pela func() flatMap\n",
    " - Sequenciados, é atribuído chave-valor pelo map (valor 1)\n",
    " - Por final, é feito o reduce dos dados, com uso de duas funções inferidas pelo Scala(x+y).\n",
    " - Faz o count dos dados."
   ]
  },
  {
   "cell_type": "code",
   "execution_count": null,
   "metadata": {},
   "outputs": [],
   "source": []
  }
 ],
 "metadata": {
  "kernelspec": {
   "display_name": "Python 3",
   "language": "python",
   "name": "python3"
  },
  "language_info": {
   "codemirror_mode": {
    "name": "ipython",
    "version": 3
   },
   "file_extension": ".py",
   "mimetype": "text/x-python",
   "name": "python",
   "nbconvert_exporter": "python",
   "pygments_lexer": "ipython3",
   "version": "3.7.3"
  }
 },
 "nbformat": 4,
 "nbformat_minor": 2
}
